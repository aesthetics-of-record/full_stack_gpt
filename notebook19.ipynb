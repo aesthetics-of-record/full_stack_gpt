{
 "cells": [
  {
   "cell_type": "code",
   "execution_count": 4,
   "metadata": {},
   "outputs": [
    {
     "name": "stdout",
     "output_type": "stream",
     "text": [
      "\n",
      "\n",
      "\u001b[1m> Entering new LLMChain chain...\u001b[0m\n",
      "Prompt after formatting:\n",
      "\u001b[32;1m\u001b[1;3mSystem: 너는 과거 대화내용들을 기억해서 그 기억을 바탕으로 인간에게 대답을 해 주는 ai 야. 그 이전 대화내용들은 내가 프롬프트로 미리 넣어줄거야.\n",
      "Human: 나는 서울에 살아.\u001b[0m\n",
      "\n",
      "\u001b[1m> Finished chain.\u001b[0m\n"
     ]
    },
    {
     "data": {
      "text/plain": [
       "'서울에 산다니 멋지네요! 서울은 정말 다양한 문화와 볼거리, 먹거리가 가득한 도시잖아요. 서울에서 가장 좋아하는 장소나 활동이 있나요?'"
      ]
     },
     "execution_count": 4,
     "metadata": {},
     "output_type": "execute_result"
    }
   ],
   "source": [
    "from langchain.memory import ConversationSummaryBufferMemory\n",
    "from langchain_openai import ChatOpenAI\n",
    "from langchain.chains import LLMChain\n",
    "from langchain.prompts import ChatPromptTemplate, MessagesPlaceholder\n",
    "\n",
    "llm = ChatOpenAI(temperature=0.1, model=\"gpt-4-0125-preview\")\n",
    "\n",
    "memory = ConversationSummaryBufferMemory(llm=llm, max_token=80, memory_key=\"chat_history\",\n",
    "                                         return_messages=True)\n",
    "\n",
    "# 얼마나 많은 메세지가 왔는 지 모르지만 MessagesPlaceholder(varible_name=\"chat_history\"),\n",
    "# 를 통해 중간을 대체한다.\n",
    "prompt = ChatPromptTemplate.from_messages([\n",
    "    (\"system\", \"너는 과거 대화내용들을 기억해서 그 기억을 바탕으로 인간에게 대답을 해 주는 ai 야. 그 이전 대화내용들은 내가 프롬프트로 미리 넣어줄거야.\"),\n",
    "    MessagesPlaceholder(variable_name=\"chat_history\"),\n",
    "    (\"human\", \"{question}\")\n",
    "\n",
    "])\n",
    "\n",
    "chain = LLMChain(\n",
    "    llm=llm,\n",
    "    memory=memory,\n",
    "    prompt=prompt,\n",
    "    verbose=True,\n",
    ")\n",
    "\n",
    "\n",
    "\n",
    "chain.predict(question=\"나는 서울에 살아.\")"
   ]
  },
  {
   "cell_type": "code",
   "execution_count": 5,
   "metadata": {},
   "outputs": [
    {
     "name": "stdout",
     "output_type": "stream",
     "text": [
      "\n",
      "\n",
      "\u001b[1m> Entering new LLMChain chain...\u001b[0m\n",
      "Prompt after formatting:\n",
      "\u001b[32;1m\u001b[1;3mSystem: 너는 과거 대화내용들을 기억해서 그 기억을 바탕으로 인간에게 대답을 해 주는 ai 야. 그 이전 대화내용들은 내가 프롬프트로 미리 넣어줄거야.\n",
      "Human: 나는 서울에 살아.\n",
      "AI: 서울에 산다니 멋지네요! 서울은 정말 다양한 문화와 볼거리, 먹거리가 가득한 도시잖아요. 서울에서 가장 좋아하는 장소나 활동이 있나요?\n",
      "Human: 나는 어디에 살까?\u001b[0m\n",
      "\n",
      "\u001b[1m> Finished chain.\u001b[0m\n"
     ]
    },
    {
     "data": {
      "text/plain": [
       "'당신은 서울에 산다고 말씀하셨어요. 서울에서의 생활은 어떠신가요?'"
      ]
     },
     "execution_count": 5,
     "metadata": {},
     "output_type": "execute_result"
    }
   ],
   "source": [
    "chain.predict(question=\"나는 어디에 살까?\")"
   ]
  }
 ],
 "metadata": {
  "kernelspec": {
   "display_name": "venv",
   "language": "python",
   "name": "python3"
  },
  "language_info": {
   "codemirror_mode": {
    "name": "ipython",
    "version": 3
   },
   "file_extension": ".py",
   "mimetype": "text/x-python",
   "name": "python",
   "nbconvert_exporter": "python",
   "pygments_lexer": "ipython3",
   "version": "3.11.4"
  }
 },
 "nbformat": 4,
 "nbformat_minor": 2
}
