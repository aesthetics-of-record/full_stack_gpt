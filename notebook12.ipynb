{
 "cells": [
  {
   "cell_type": "code",
   "execution_count": 5,
   "metadata": {},
   "outputs": [
    {
     "name": "stderr",
     "output_type": "stream",
     "text": [
      "c:\\Users\\HH\\Documents\\GitHub\\full_stack_gpt\\venv\\Lib\\site-packages\\langchain_core\\utils\\utils.py:159: UserWarning: WARNING! max_token is not default parameter.\n",
      "                max_token was transferred to model_kwargs.\n",
      "                Please confirm that max_token is what you intended.\n",
      "  warnings.warn(\n"
     ]
    }
   ],
   "source": [
    "from langchain.chat_models import ChatOpenAI\n",
    "from langchain.llms.openai import OpenAI\n",
    "from langchain.llms.loading import load_llm\n",
    "\n",
    "# chat = OpenAI(\n",
    "#   temperature=0.1,\n",
    "#   max_token=450,\n",
    "#   model=\"gpt-4-0125-preview\",\n",
    "# )\n",
    "\n",
    "chat = load_llm('model.json')\n",
    "\n",
    "chat.save(\"model.json\")"
   ]
  }
 ],
 "metadata": {
  "kernelspec": {
   "display_name": "venv",
   "language": "python",
   "name": "python3"
  },
  "language_info": {
   "codemirror_mode": {
    "name": "ipython",
    "version": 3
   },
   "file_extension": ".py",
   "mimetype": "text/x-python",
   "name": "python",
   "nbconvert_exporter": "python",
   "pygments_lexer": "ipython3",
   "version": "3.11.4"
  }
 },
 "nbformat": 4,
 "nbformat_minor": 2
}
