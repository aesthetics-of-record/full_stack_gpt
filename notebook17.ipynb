{
 "cells": [
  {
   "cell_type": "code",
   "execution_count": 18,
   "metadata": {},
   "outputs": [],
   "source": [
    "from langchain.memory import ConversationKGMemory\n",
    "from langchain_openai import ChatOpenAI\n",
    "\n",
    "llm = ChatOpenAI(temperature=0.1, model=\"gpt-4-0125-preview\")\n",
    "\n",
    "memory = ConversationKGMemory(llm=llm, return_messages=True)\n",
    "\n",
    "\n",
    "def add_message(input, output):\n",
    "    memory.save_context({\"input\": input}, {\"output\": output})\n",
    "\n",
    "\n",
    "# 저장\n",
    "add_message(\"say hi to sam\", \"who is sam\")\n",
    "add_message(\"sam is a friend\", \"okay\")\n",
    "\n",
    "# add_message(\"나는 대한민국에 살고있는 조현호야.\", \"오 반가워!\")\n",
    "# add_message(\"대한민국은 정말 예뻐!\", \"나도 가고 싶다!\")\n",
    "# add_message(\"대한민국은 미국에서 얼마나 멀어?\", \"나도 몰라! 아마 엄청 멀거야\")\n"
   ]
  },
  {
   "cell_type": "code",
   "execution_count": 20,
   "metadata": {},
   "outputs": [
    {
     "data": {
      "text/plain": [
       "{'history': []}"
      ]
     },
     "execution_count": 20,
     "metadata": {},
     "output_type": "execute_result"
    }
   ],
   "source": [
    "# memory.load_memory_variables({\"input\": \"대한민국은?\"}) # 한국어는 별로 성능이 안 좋다.\n",
    "\n",
    "# 출력\n",
    "# memory.load_memory_variables({\"input\": \"who is cho-hyeon-ho\"})"
   ]
  }
 ],
 "metadata": {
  "kernelspec": {
   "display_name": "venv",
   "language": "python",
   "name": "python3"
  },
  "language_info": {
   "codemirror_mode": {
    "name": "ipython",
    "version": 3
   },
   "file_extension": ".py",
   "mimetype": "text/x-python",
   "name": "python",
   "nbconvert_exporter": "python",
   "pygments_lexer": "ipython3",
   "version": "3.11.4"
  }
 },
 "nbformat": 4,
 "nbformat_minor": 2
}
