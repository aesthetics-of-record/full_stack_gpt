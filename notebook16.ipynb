{
 "cells": [
  {
   "cell_type": "code",
   "execution_count": 1,
   "metadata": {},
   "outputs": [],
   "source": [
    "from langchain.memory import ConversationSummaryBufferMemory\n",
    "from langchain_openai import ChatOpenAI\n",
    "\n",
    "llm = ChatOpenAI(temperature=0.1, model=\"gpt-4-0125-preview\")\n",
    "\n",
    "memory = ConversationSummaryBufferMemory(llm=llm, max_token=50, return_messages=True)\n",
    "\n",
    "\n",
    "def add_message(input, output):\n",
    "    memory.save_context({\"input\": input}, {\"output\": output})\n",
    "\n",
    "\n",
    "def get_history():\n",
    "    return memory.load_memory_variables({})\n",
    "\n",
    "\n",
    "add_message(\"나는 대한민국에 살고있는 조현호야.\", \"오 반가워!\")\n"
   ]
  },
  {
   "cell_type": "code",
   "execution_count": 2,
   "metadata": {},
   "outputs": [],
   "source": [
    "add_message(\"대한민국은 정말 예뻐!\", \"나도 가고 싶다!\")"
   ]
  },
  {
   "cell_type": "code",
   "execution_count": 3,
   "metadata": {},
   "outputs": [
    {
     "data": {
      "text/plain": [
       "{'history': [HumanMessage(content='나는 대한민국에 살고있는 조현호야.'),\n",
       "  AIMessage(content='오 반가워!'),\n",
       "  HumanMessage(content='대한민국은 정말 예뻐!'),\n",
       "  AIMessage(content='나도 가고 싶다!')]}"
      ]
     },
     "execution_count": 3,
     "metadata": {},
     "output_type": "execute_result"
    }
   ],
   "source": [
    "get_history()"
   ]
  },
  {
   "cell_type": "code",
   "execution_count": 4,
   "metadata": {},
   "outputs": [],
   "source": [
    "add_message(\"대한민국은 미국에서 얼마나 멀어?\", \"나도 몰라! 아마 엄청 멀거야\")"
   ]
  },
  {
   "cell_type": "code",
   "execution_count": 5,
   "metadata": {},
   "outputs": [
    {
     "data": {
      "text/plain": [
       "{'history': [HumanMessage(content='나는 대한민국에 살고있는 조현호야.'),\n",
       "  AIMessage(content='오 반가워!'),\n",
       "  HumanMessage(content='대한민국은 정말 예뻐!'),\n",
       "  AIMessage(content='나도 가고 싶다!'),\n",
       "  HumanMessage(content='대한민국은 미국에서 얼마나 멀어?'),\n",
       "  AIMessage(content='나도 몰라! 아마 엄청 멀거야')]}"
      ]
     },
     "execution_count": 5,
     "metadata": {},
     "output_type": "execute_result"
    }
   ],
   "source": [
    "get_history()"
   ]
  },
  {
   "cell_type": "code",
   "execution_count": 6,
   "metadata": {},
   "outputs": [],
   "source": [
    "add_message(\"대한민국은 호주에서 얼마나 멀어?\", \"나도 몰라! 아마 엄청 멀거야\")"
   ]
  },
  {
   "cell_type": "code",
   "execution_count": 7,
   "metadata": {},
   "outputs": [
    {
     "data": {
      "text/plain": [
       "{'history': [HumanMessage(content='나는 대한민국에 살고있는 조현호야.'),\n",
       "  AIMessage(content='오 반가워!'),\n",
       "  HumanMessage(content='대한민국은 정말 예뻐!'),\n",
       "  AIMessage(content='나도 가고 싶다!'),\n",
       "  HumanMessage(content='대한민국은 미국에서 얼마나 멀어?'),\n",
       "  AIMessage(content='나도 몰라! 아마 엄청 멀거야'),\n",
       "  HumanMessage(content='대한민국은 호주에서 얼마나 멀어?'),\n",
       "  AIMessage(content='나도 몰라! 아마 엄청 멀거야')]}"
      ]
     },
     "execution_count": 7,
     "metadata": {},
     "output_type": "execute_result"
    }
   ],
   "source": [
    "get_history()"
   ]
  }
 ],
 "metadata": {
  "kernelspec": {
   "display_name": "venv",
   "language": "python",
   "name": "python3"
  },
  "language_info": {
   "codemirror_mode": {
    "name": "ipython",
    "version": 3
   },
   "file_extension": ".py",
   "mimetype": "text/x-python",
   "name": "python",
   "nbconvert_exporter": "python",
   "pygments_lexer": "ipython3",
   "version": "3.11.4"
  }
 },
 "nbformat": 4,
 "nbformat_minor": 2
}
