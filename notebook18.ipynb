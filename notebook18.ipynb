{
 "cells": [
  {
   "cell_type": "code",
   "execution_count": 7,
   "metadata": {},
   "outputs": [
    {
     "name": "stdout",
     "output_type": "stream",
     "text": [
      "\n",
      "\n",
      "\u001b[1m> Entering new LLMChain chain...\u001b[0m\n",
      "Prompt after formatting:\n",
      "\u001b[32;1m\u001b[1;3m\n",
      "    너는 과거 대화내용들을 기억해서 그 기억을 바탕으로 인간에게 대답을 해 주는 ai 야.\n",
      "    대화내용 기억들은 내가 프롬프트로 넣어줄거야.\n",
      "    \n",
      "    \n",
      "    Human:나는 서울에 살아.\n",
      "    You:\n",
      "\u001b[0m\n",
      "\n",
      "\u001b[1m> Finished chain.\u001b[0m\n"
     ]
    },
    {
     "data": {
      "text/plain": [
       "'Human: 나는 서울에 살아.\\nYou: 서울에 사시는군요! 서울에서의 생활은 어떠신가요?'"
      ]
     },
     "execution_count": 7,
     "metadata": {},
     "output_type": "execute_result"
    }
   ],
   "source": [
    "from langchain.memory import ConversationSummaryBufferMemory\n",
    "from langchain_openai import ChatOpenAI\n",
    "from langchain.chains import LLMChain\n",
    "from langchain.prompts import PromptTemplate\n",
    "\n",
    "llm = ChatOpenAI(temperature=0.1, model=\"gpt-4-0125-preview\")\n",
    "\n",
    "memory = ConversationSummaryBufferMemory(llm=llm, max_token=80, memory_key=\"chat_history\")\n",
    "\n",
    "template = \"\"\"\n",
    "    너는 과거 대화내용들을 기억해서 그 기억을 바탕으로 인간에게 대답을 해 주는 ai 야.\n",
    "    대화내용 기억들은 내가 프롬프트로 넣어줄거야.\n",
    "    \n",
    "    {chat_history}\n",
    "    Human:{question}\n",
    "    You:\n",
    "\"\"\"\n",
    "\n",
    "chain = LLMChain(\n",
    "    llm=llm,\n",
    "    memory=memory,\n",
    "    prompt=PromptTemplate.from_template(template),\n",
    "    verbose=True,\n",
    ")\n",
    "\n",
    "\n",
    "\n",
    "chain.predict(question=\"나는 서울에 살아.\")"
   ]
  },
  {
   "cell_type": "code",
   "execution_count": 8,
   "metadata": {},
   "outputs": [
    {
     "name": "stdout",
     "output_type": "stream",
     "text": [
      "\n",
      "\n",
      "\u001b[1m> Entering new LLMChain chain...\u001b[0m\n",
      "Prompt after formatting:\n",
      "\u001b[32;1m\u001b[1;3m\n",
      "    너는 과거 대화내용들을 기억해서 그 기억을 바탕으로 인간에게 대답을 해 주는 ai 야.\n",
      "    대화내용 기억들은 내가 프롬프트로 넣어줄거야.\n",
      "    \n",
      "    Human: 나는 서울에 살아.\n",
      "AI: Human: 나는 서울에 살아.\n",
      "You: 서울에 사시는군요! 서울에서의 생활은 어떠신가요?\n",
      "    Human:나는 어디 살어?\n",
      "    You:\n",
      "\u001b[0m\n",
      "\n",
      "\u001b[1m> Finished chain.\u001b[0m\n"
     ]
    },
    {
     "data": {
      "text/plain": [
       "'서울에 살고 계시다고 말씀하셨어요!'"
      ]
     },
     "execution_count": 8,
     "metadata": {},
     "output_type": "execute_result"
    }
   ],
   "source": [
    "chain.predict(question=\"나는 어디 살어?\")"
   ]
  },
  {
   "cell_type": "code",
   "execution_count": 4,
   "metadata": {},
   "outputs": [
    {
     "data": {
      "text/plain": [
       "{'chat_history': 'Human: 나는 서울에 살아.\\nAI: 서울은 정말 활기차고 다양한 문화가 공존하는 멋진 도시야. 서울에서 산다면, 맛집 탐방, 역사적인 장소 방문, 그리고 다양한 문화 행사에 참여할 기회가 많을 거야. 서울에서의 생활을 최대한 즐기길 바래! 만약 서울에 대해 더 알고 싶은 것이 있다면 언제든지 물어봐.\\nHuman: 나는 어디 살어?\\nAI: 나는 당신이 어디에 살고 있는지 알 수 없어. 하지만 당신이 어디에 살든지, 그 지역의 특색을 살린 활동을 찾아보고, 주변의 자연이나 문화를 탐험하는 것이 좋아. 만약 당신이 살고 있는 지역에 대해 더 알고 싶거나, 그곳에서 할 수 있는 특별한 활동이 무엇인지 궁금하다면, 구체적인 정보를 알려줘. 그러면 더 도움이 될 수 있을 거야.'}"
      ]
     },
     "execution_count": 4,
     "metadata": {},
     "output_type": "execute_result"
    }
   ],
   "source": [
    "memory.load_memory_variables({})"
   ]
  }
 ],
 "metadata": {
  "kernelspec": {
   "display_name": "venv",
   "language": "python",
   "name": "python3"
  },
  "language_info": {
   "codemirror_mode": {
    "name": "ipython",
    "version": 3
   },
   "file_extension": ".py",
   "mimetype": "text/x-python",
   "name": "python",
   "nbconvert_exporter": "python",
   "pygments_lexer": "ipython3",
   "version": "3.11.4"
  }
 },
 "nbformat": 4,
 "nbformat_minor": 2
}
