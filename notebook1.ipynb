{
 "cells": [
  {
   "cell_type": "code",
   "execution_count": 3,
   "metadata": {},
   "outputs": [
    {
     "data": {
      "text/plain": [
       "True"
      ]
     },
     "execution_count": 3,
     "metadata": {},
     "output_type": "execute_result"
    }
   ],
   "source": [
    "from langchain.llms.openai import OpenAI\n",
    "from langchain.chat_models import ChatOpenAI\n",
    "from dotenv import load_dotenv\n",
    "load_dotenv(\".env\")"
   ]
  },
  {
   "cell_type": "code",
   "execution_count": 4,
   "metadata": {},
   "outputs": [
    {
     "name": "stderr",
     "output_type": "stream",
     "text": [
      "c:\\Users\\cho\\Documents\\GitHub\\full_stack_gpt\\venv\\Lib\\site-packages\\langchain_core\\_api\\deprecation.py:117: LangChainDeprecationWarning: The class `langchain_community.chat_models.openai.ChatOpenAI` was deprecated in langchain-community 0.0.10 and will be removed in 0.2.0. An updated version of the class exists in the langchain-openai package and should be used instead. To use it run `pip install -U langchain-openai` and import as `from langchain_openai import ChatOpenAI`.\n",
      "  warn_deprecated(\n",
      "c:\\Users\\cho\\Documents\\GitHub\\full_stack_gpt\\venv\\Lib\\site-packages\\langchain_core\\_api\\deprecation.py:117: LangChainDeprecationWarning: The function `predict` was deprecated in LangChain 0.1.7 and will be removed in 0.2.0. Use invoke instead.\n",
      "  warn_deprecated(\n",
      "c:\\Users\\cho\\Documents\\GitHub\\full_stack_gpt\\venv\\Lib\\site-packages\\langchain_core\\_api\\deprecation.py:117: LangChainDeprecationWarning: The function `predict` was deprecated in LangChain 0.1.7 and will be removed in 0.2.0. Use invoke instead.\n",
      "  warn_deprecated(\n"
     ]
    },
    {
     "data": {
      "text/plain": [
       "('\\n\\n현재까지 확인된 많은 행성들 중에서 대략 4,000개의 행성이 발견되었다고 추정되고 있다. 하지만 이는 우리 은하계 내의 일부분만을 조사한 것이고 앞으로 더 많은 행성이 발견될 가능성이 높다. 또한 우리 은하계 이외의 다른 은하들에도 존재할 수 있는 수많은 행성들을 아직 발견하지 못했을 가능성도 높다. 따라서 정확한 숫자를 말하기는 어렵지만, 많은 천문학자들은 수십억에서 수조 개에 이르는 많은 행성들이 존재할 것으로 추정하고 있다. ',\n",
       " '현재까지 발견된 행성은 수백억 개에 이르는 것으로 추정되지만, 이는 우리 은하계 내에 있는 행성들만을 포함한 것이며, 우주 전체에 존재하는 행성의 수는 알 수 없습니다.')"
      ]
     },
     "execution_count": 4,
     "metadata": {},
     "output_type": "execute_result"
    }
   ],
   "source": [
    "llm = OpenAI()\n",
    "chat = ChatOpenAI()\n",
    "\n",
    "# 둘의 비교, 앞으로는 chat 모델만 사용할 예정이다.\n",
    "a = llm.predict(\"얼마나 많은 행성이 존재하나?\")\n",
    "b = chat.predict(\"얼마나 많은 행성이 존재하나?\")\n",
    "\n",
    "a, b"
   ]
  }
 ],
 "metadata": {
  "kernelspec": {
   "display_name": "venv",
   "language": "python",
   "name": "python3"
  },
  "language_info": {
   "codemirror_mode": {
    "name": "ipython",
    "version": 3
   },
   "file_extension": ".py",
   "mimetype": "text/x-python",
   "name": "python",
   "nbconvert_exporter": "python",
   "pygments_lexer": "ipython3",
   "version": "3.11.5"
  }
 },
 "nbformat": 4,
 "nbformat_minor": 2
}
