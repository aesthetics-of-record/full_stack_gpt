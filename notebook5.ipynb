{
 "cells": [
  {
   "cell_type": "code",
   "execution_count": 21,
   "metadata": {},
   "outputs": [],
   "source": [
    "from langchain.chat_models import ChatOpenAI\n",
    "from langchain.prompts import ChatPromptTemplate\n",
    "from langchain.callbacks import StreamingStdOutCallbackHandler\n",
    "\n",
    "from dotenv import load_dotenv\n",
    "\n",
    "load_dotenv(\".env\")\n",
    "\n",
    "chat = ChatOpenAI(\n",
    "    temperature=0.1,\n",
    "    model=\"gpt-3.5-turbo-1106\",\n",
    "    streaming=True,\n",
    "    callbacks=[StreamingStdOutCallbackHandler()],\n",
    ")"
   ]
  },
  {
   "cell_type": "code",
   "execution_count": 22,
   "metadata": {},
   "outputs": [],
   "source": [
    "chef_prompt = ChatPromptTemplate.from_messages(\n",
    "    [\n",
    "        (\n",
    "            \"system\",\n",
    "            \"You are a world-class internatinal chef. You create easy to follow recipies for any type of cuision with easy to find ingredients.\",\n",
    "        ),\n",
    "        (\"human\", \"I want to cook {cuisine} food.\"),\n",
    "    ]\n",
    ")\n",
    "\n",
    "chef_chain = chef_prompt | chat"
   ]
  },
  {
   "cell_type": "code",
   "execution_count": 23,
   "metadata": {},
   "outputs": [],
   "source": [
    "veg_chef_prompt = ChatPromptTemplate.from_messages(\n",
    "    [\n",
    "        (\n",
    "            \"system\",\n",
    "            \"You are a vegetarian chef specialized on making traditional recipes vegetarian. You find alternative ingredients and explain their preparation. You don't radically modify the recipe. If there is no alternative for a food just say you don't know how to recipe it.\",\n",
    "        ),\n",
    "        (\"human\", \"{recipe}\"),\n",
    "    ]\n",
    ")\n",
    "\n",
    "veg_chain = veg_chef_prompt | chat"
   ]
  },
  {
   "cell_type": "code",
   "execution_count": 24,
   "metadata": {},
   "outputs": [
    {
     "name": "stdout",
     "output_type": "stream",
     "text": [
      "Great choice! How about trying a classic Indian dish like Chicken Tikka Masala? Here's a simple recipe for you:\n",
      "\n",
      "Ingredients:\n",
      "- 1 lb (450g) boneless, skinless chicken breasts, cut into bite-sized pieces\n",
      "- 1 cup plain yogurt\n",
      "- 2 tablespoons lemon juice\n",
      "- 2 teaspoons ground cumin\n",
      "- 2 teaspoons ground coriander\n",
      "- 1 teaspoon ground turmeric\n",
      "- 1 teaspoon garam masala\n",
      "- 1 teaspoon paprika\n",
      "- 1 teaspoon chili powder (adjust to taste)\n",
      "- 3 cloves garlic, minced\n",
      "- 1 tablespoon grated fresh ginger\n",
      "- 1 can (14 oz/400g) crushed tomatoes\n",
      "- 1 cup heavy cream\n",
      "- 2 tablespoons vegetable oil\n",
      "- Salt to taste\n",
      "- Chopped fresh cilantro for garnish\n",
      "\n",
      "Instructions:\n",
      "1. In a large bowl, mix together the yogurt, lemon juice, ground cumin, ground coriander, ground turmeric, garam masala, paprika, chili powder, minced garlic, and grated ginger. Add the chicken pieces and stir to coat. Cover and refrigerate for at least 1 hour, or overnight for best results.\n",
      "\n",
      "2. Preheat the oven to 400°F (200°C). Thread the marinated chicken pieces onto skewers and place them on a baking sheet. Bake for 20-25 minutes, or until the chicken is cooked through and slightly charred around the edges.\n",
      "\n",
      "3. In a large skillet, heat the vegetable oil over medium heat. Add the crushed tomatoes and simmer for 5 minutes. Stir in the heavy cream and continue to simmer for another 5 minutes.\n",
      "\n",
      "4. Add the cooked chicken pieces to the skillet and simmer for an additional 10 minutes, stirring occasionally. Season with salt to taste.\n",
      "\n",
      "5. Garnish with chopped fresh cilantro and serve the Chicken Tikka Masala with steamed rice or naan bread.\n",
      "\n",
      "Enjoy your homemade Chicken Tikka Masala!For a vegetarian version of Chicken Tikka Masala, you can replace the chicken with paneer, a type of Indian cheese that holds its shape well when cooked. Here's how to prepare the paneer as a substitute for the chicken:\n",
      "\n",
      "Ingredients:\n",
      "- 1 lb (450g) paneer, cut into bite-sized pieces\n",
      "- 1 cup plain yogurt\n",
      "- 2 tablespoons lemon juice\n",
      "- 2 teaspoons ground cumin\n",
      "- 2 teaspoons ground coriander\n",
      "- 1 teaspoon ground turmeric\n",
      "- 1 teaspoon garam masala\n",
      "- 1 teaspoon paprika\n",
      "- 1 teaspoon chili powder (adjust to taste)\n",
      "- 3 cloves garlic, minced\n",
      "- 1 tablespoon grated fresh ginger\n",
      "- 1 can (14 oz/400g) crushed tomatoes\n",
      "- 1 cup heavy cream\n",
      "- 2 tablespoons vegetable oil\n",
      "- Salt to taste\n",
      "- Chopped fresh cilantro for garnish\n",
      "\n",
      "Instructions:\n",
      "1. In a large bowl, mix together the yogurt, lemon juice, ground cumin, ground coriander, ground turmeric, garam masala, paprika, chili powder, minced garlic, and grated ginger. Add the paneer pieces and stir to coat. Cover and refrigerate for at least 1 hour, or overnight for best results.\n",
      "\n",
      "2. Preheat the oven to 400°F (200°C). Thread the marinated paneer pieces onto skewers and place them on a baking sheet. Bake for 20-25 minutes, or until the paneer is slightly charred around the edges.\n",
      "\n",
      "3. In a large skillet, heat the vegetable oil over medium heat. Add the crushed tomatoes and simmer for 5 minutes. Stir in the heavy cream and continue to simmer for another 5 minutes.\n",
      "\n",
      "4. Add the cooked paneer pieces to the skillet and simmer for an additional 10 minutes, stirring occasionally. Season with salt to taste.\n",
      "\n",
      "5. Garnish with chopped fresh cilantro and serve the Paneer Tikka Masala with steamed rice or naan bread.\n",
      "\n",
      "Enjoy your homemade Paneer Tikka Masala!"
     ]
    },
    {
     "data": {
      "text/plain": [
       "AIMessage(content=\"For a vegetarian version of Chicken Tikka Masala, you can replace the chicken with paneer, a type of Indian cheese that holds its shape well when cooked. Here's how to prepare the paneer as a substitute for the chicken:\\n\\nIngredients:\\n- 1 lb (450g) paneer, cut into bite-sized pieces\\n- 1 cup plain yogurt\\n- 2 tablespoons lemon juice\\n- 2 teaspoons ground cumin\\n- 2 teaspoons ground coriander\\n- 1 teaspoon ground turmeric\\n- 1 teaspoon garam masala\\n- 1 teaspoon paprika\\n- 1 teaspoon chili powder (adjust to taste)\\n- 3 cloves garlic, minced\\n- 1 tablespoon grated fresh ginger\\n- 1 can (14 oz/400g) crushed tomatoes\\n- 1 cup heavy cream\\n- 2 tablespoons vegetable oil\\n- Salt to taste\\n- Chopped fresh cilantro for garnish\\n\\nInstructions:\\n1. In a large bowl, mix together the yogurt, lemon juice, ground cumin, ground coriander, ground turmeric, garam masala, paprika, chili powder, minced garlic, and grated ginger. Add the paneer pieces and stir to coat. Cover and refrigerate for at least 1 hour, or overnight for best results.\\n\\n2. Preheat the oven to 400°F (200°C). Thread the marinated paneer pieces onto skewers and place them on a baking sheet. Bake for 20-25 minutes, or until the paneer is slightly charred around the edges.\\n\\n3. In a large skillet, heat the vegetable oil over medium heat. Add the crushed tomatoes and simmer for 5 minutes. Stir in the heavy cream and continue to simmer for another 5 minutes.\\n\\n4. Add the cooked paneer pieces to the skillet and simmer for an additional 10 minutes, stirring occasionally. Season with salt to taste.\\n\\n5. Garnish with chopped fresh cilantro and serve the Paneer Tikka Masala with steamed rice or naan bread.\\n\\nEnjoy your homemade Paneer Tikka Masala!\")"
      ]
     },
     "execution_count": 24,
     "metadata": {},
     "output_type": "execute_result"
    }
   ],
   "source": [
    "final_chain = {\"recipe\": chef_chain} | veg_chain\n",
    "\n",
    "final_chain.invoke({\"cuisine\": \"indian\"})"
   ]
  },
  {
   "cell_type": "code",
   "execution_count": null,
   "metadata": {},
   "outputs": [],
   "source": []
  }
 ],
 "metadata": {
  "kernelspec": {
   "display_name": "venv",
   "language": "python",
   "name": "python3"
  },
  "language_info": {
   "codemirror_mode": {
    "name": "ipython",
    "version": 3
   },
   "file_extension": ".py",
   "mimetype": "text/x-python",
   "name": "python",
   "nbconvert_exporter": "python",
   "pygments_lexer": "ipython3",
   "version": "3.11.4"
  }
 },
 "nbformat": 4,
 "nbformat_minor": 2
}
