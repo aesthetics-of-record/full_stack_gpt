{
 "cells": [
  {
   "cell_type": "code",
   "execution_count": 9,
   "metadata": {},
   "outputs": [
    {
     "name": "stdout",
     "output_type": "stream",
     "text": [
      "\u001b[32;1m\u001b[1;3m[llm/start]\u001b[0m \u001b[1m[1:llm:ChatOpenAI] Entering LLM run with input:\n",
      "\u001b[0m{\n",
      "  \"prompts\": [\n",
      "    \"Human: How do you make italian pasta\"\n",
      "  ]\n",
      "}\n",
      "\u001b[36;1m\u001b[1;3m[llm/end]\u001b[0m \u001b[1m[1:llm:ChatOpenAI] [3ms] Exiting LLM run with output:\n",
      "\u001b[0m{\n",
      "  \"generations\": [\n",
      "    [\n",
      "      {\n",
      "        \"text\": \"To make Italian pasta, you will need the following ingredients:\\n\\n- 2 cups of all-purpose flour\\n- 2 large eggs\\n- 1/2 teaspoon of salt\\n- Water (if needed)\\n\\nHere's a step-by-step guide to making Italian pasta:\\n\\n1. On a clean surface or in a large mixing bowl, create a well with the flour. Make sure the well is wide enough to hold the eggs.\\n\\n2. Crack the eggs into the well and add the salt.\\n\\n3. Using a fork, beat the eggs and gradually start incorporating the flour from the sides of the well. Continue mixing until a dough starts to form.\\n\\n4. Once the dough starts to come together, use your hands to knead it. If the dough feels too dry, you can add a little water, one tablespoon at a time, until it reaches the desired consistency. If the dough is too sticky, add a little more flour.\\n\\n5. Knead the dough for about 5-10 minutes until it becomes smooth and elastic.\\n\\n6. Once the dough is ready, cover it with a clean kitchen towel or plastic wrap and let it rest for at least 30 minutes. This will allow the gluten to relax and make the dough easier to work with.\\n\\n7. After the resting period, divide the dough into smaller portions. Take one portion and flatten it with your hands.\\n\\n8. Using a rolling pin, roll out the dough into a thin sheet. If you have a pasta machine, you can use it to roll out the dough to your desired thickness. Make sure to dust the dough with flour to prevent sticking.\\n\\n9. Once the dough is rolled out, you can cut it into your desired pasta shape. For example, you can make fettuccine, spaghetti, or lasagna sheets.\\n\\n10. If you're making long pasta like spaghetti, you can hang the strands on a pasta drying rack or lay them flat on a clean surface to dry for a few minutes before cooking.\\n\\n11. To cook the pasta, bring a large pot of salted water to a boil. Add the pasta and cook according to the package instructions or until al dente (cooked but still firm to the bite).\\n\\n12. Once the pasta is cooked, drain it and serve with your favorite sauce or toppings.\\n\\nEnjoy your homemade Italian pasta!\",\n",
      "        \"generation_info\": {\n",
      "          \"finish_reason\": \"stop\",\n",
      "          \"logprobs\": null\n",
      "        },\n",
      "        \"type\": \"ChatGeneration\",\n",
      "        \"message\": {\n",
      "          \"lc\": 1,\n",
      "          \"type\": \"constructor\",\n",
      "          \"id\": [\n",
      "            \"langchain\",\n",
      "            \"schema\",\n",
      "            \"messages\",\n",
      "            \"AIMessage\"\n",
      "          ],\n",
      "          \"kwargs\": {\n",
      "            \"content\": \"To make Italian pasta, you will need the following ingredients:\\n\\n- 2 cups of all-purpose flour\\n- 2 large eggs\\n- 1/2 teaspoon of salt\\n- Water (if needed)\\n\\nHere's a step-by-step guide to making Italian pasta:\\n\\n1. On a clean surface or in a large mixing bowl, create a well with the flour. Make sure the well is wide enough to hold the eggs.\\n\\n2. Crack the eggs into the well and add the salt.\\n\\n3. Using a fork, beat the eggs and gradually start incorporating the flour from the sides of the well. Continue mixing until a dough starts to form.\\n\\n4. Once the dough starts to come together, use your hands to knead it. If the dough feels too dry, you can add a little water, one tablespoon at a time, until it reaches the desired consistency. If the dough is too sticky, add a little more flour.\\n\\n5. Knead the dough for about 5-10 minutes until it becomes smooth and elastic.\\n\\n6. Once the dough is ready, cover it with a clean kitchen towel or plastic wrap and let it rest for at least 30 minutes. This will allow the gluten to relax and make the dough easier to work with.\\n\\n7. After the resting period, divide the dough into smaller portions. Take one portion and flatten it with your hands.\\n\\n8. Using a rolling pin, roll out the dough into a thin sheet. If you have a pasta machine, you can use it to roll out the dough to your desired thickness. Make sure to dust the dough with flour to prevent sticking.\\n\\n9. Once the dough is rolled out, you can cut it into your desired pasta shape. For example, you can make fettuccine, spaghetti, or lasagna sheets.\\n\\n10. If you're making long pasta like spaghetti, you can hang the strands on a pasta drying rack or lay them flat on a clean surface to dry for a few minutes before cooking.\\n\\n11. To cook the pasta, bring a large pot of salted water to a boil. Add the pasta and cook according to the package instructions or until al dente (cooked but still firm to the bite).\\n\\n12. Once the pasta is cooked, drain it and serve with your favorite sauce or toppings.\\n\\nEnjoy your homemade Italian pasta!\",\n",
      "            \"additional_kwargs\": {}\n",
      "          }\n",
      "        }\n",
      "      }\n",
      "    ]\n",
      "  ],\n",
      "  \"llm_output\": null,\n",
      "  \"run\": null\n",
      "}\n"
     ]
    },
    {
     "data": {
      "text/plain": [
       "\"To make Italian pasta, you will need the following ingredients:\\n\\n- 2 cups of all-purpose flour\\n- 2 large eggs\\n- 1/2 teaspoon of salt\\n- Water (if needed)\\n\\nHere's a step-by-step guide to making Italian pasta:\\n\\n1. On a clean surface or in a large mixing bowl, create a well with the flour. Make sure the well is wide enough to hold the eggs.\\n\\n2. Crack the eggs into the well and add the salt.\\n\\n3. Using a fork, beat the eggs and gradually start incorporating the flour from the sides of the well. Continue mixing until a dough starts to form.\\n\\n4. Once the dough starts to come together, use your hands to knead it. If the dough feels too dry, you can add a little water, one tablespoon at a time, until it reaches the desired consistency. If the dough is too sticky, add a little more flour.\\n\\n5. Knead the dough for about 5-10 minutes until it becomes smooth and elastic.\\n\\n6. Once the dough is ready, cover it with a clean kitchen towel or plastic wrap and let it rest for at least 30 minutes. This will allow the gluten to relax and make the dough easier to work with.\\n\\n7. After the resting period, divide the dough into smaller portions. Take one portion and flatten it with your hands.\\n\\n8. Using a rolling pin, roll out the dough into a thin sheet. If you have a pasta machine, you can use it to roll out the dough to your desired thickness. Make sure to dust the dough with flour to prevent sticking.\\n\\n9. Once the dough is rolled out, you can cut it into your desired pasta shape. For example, you can make fettuccine, spaghetti, or lasagna sheets.\\n\\n10. If you're making long pasta like spaghetti, you can hang the strands on a pasta drying rack or lay them flat on a clean surface to dry for a few minutes before cooking.\\n\\n11. To cook the pasta, bring a large pot of salted water to a boil. Add the pasta and cook according to the package instructions or until al dente (cooked but still firm to the bite).\\n\\n12. Once the pasta is cooked, drain it and serve with your favorite sauce or toppings.\\n\\nEnjoy your homemade Italian pasta!\""
      ]
     },
     "execution_count": 9,
     "metadata": {},
     "output_type": "execute_result"
    }
   ],
   "source": [
    "from langchain.chat_models import ChatOpenAI\n",
    "from langchain.callbacks import StreamingStdOutCallbackHandler\n",
    "from langchain.globals import set_llm_cache, set_debug\n",
    "from langchain.cache import InMemoryCache, SQLiteCache\n",
    "\n",
    "# set_llm_cache(InMemoryCache())\n",
    "set_llm_cache(SQLiteCache(\"cache.db\"))\n",
    "# set_debug(True)\n",
    "\n",
    "\n",
    "chat = ChatOpenAI(\n",
    "    temperature=0.1,\n",
    "    # streaming=True,\n",
    "    # callbacks=[\n",
    "    #     StreamingStdOutCallbackHandler(),\n",
    "    # ],\n",
    ")\n",
    "\n",
    "chat.predict(\"How do you make italian pasta\")"
   ]
  },
  {
   "cell_type": "code",
   "execution_count": 8,
   "metadata": {},
   "outputs": [
    {
     "name": "stdout",
     "output_type": "stream",
     "text": [
      "\u001b[32;1m\u001b[1;3m[llm/start]\u001b[0m \u001b[1m[1:llm:ChatOpenAI] Entering LLM run with input:\n",
      "\u001b[0m{\n",
      "  \"prompts\": [\n",
      "    \"Human: How do you make italian pasta\"\n",
      "  ]\n",
      "}\n",
      "\u001b[36;1m\u001b[1;3m[llm/end]\u001b[0m \u001b[1m[1:llm:ChatOpenAI] [2ms] Exiting LLM run with output:\n",
      "\u001b[0m{\n",
      "  \"generations\": [\n",
      "    [\n",
      "      {\n",
      "        \"text\": \"To make Italian pasta, you will need the following ingredients:\\n\\n- 2 cups of all-purpose flour\\n- 2 large eggs\\n- 1/2 teaspoon of salt\\n- Water (if needed)\\n\\nHere's a step-by-step guide to making Italian pasta:\\n\\n1. On a clean surface or in a large mixing bowl, create a well with the flour. Make sure the well is wide enough to hold the eggs.\\n\\n2. Crack the eggs into the well and add the salt.\\n\\n3. Using a fork, beat the eggs and gradually start incorporating the flour from the sides of the well. Continue mixing until a dough starts to form.\\n\\n4. Once the dough starts to come together, use your hands to knead it. If the dough feels too dry, you can add a little water, one tablespoon at a time, until it reaches the desired consistency. If the dough is too sticky, add a little more flour.\\n\\n5. Knead the dough for about 5-10 minutes until it becomes smooth and elastic.\\n\\n6. Once the dough is ready, cover it with a clean kitchen towel or plastic wrap and let it rest for at least 30 minutes. This will allow the gluten to relax and make the dough easier to work with.\\n\\n7. After the resting period, divide the dough into smaller portions. Take one portion and flatten it with your hands.\\n\\n8. Using a rolling pin, roll out the dough into a thin sheet. If you have a pasta machine, you can use it to roll out the dough to your desired thickness. Make sure to dust the dough with flour to prevent sticking.\\n\\n9. Once the dough is rolled out, you can cut it into your desired pasta shape. For example, you can make fettuccine, spaghetti, or lasagna sheets.\\n\\n10. If you're making long pasta like spaghetti, you can hang the strands on a pasta drying rack or lay them flat on a clean surface to dry for a few minutes before cooking.\\n\\n11. To cook the pasta, bring a large pot of salted water to a boil. Add the pasta and cook according to the package instructions or until al dente (cooked but still firm to the bite).\\n\\n12. Once the pasta is cooked, drain it and serve with your favorite sauce or toppings.\\n\\nEnjoy your homemade Italian pasta!\",\n",
      "        \"generation_info\": {\n",
      "          \"finish_reason\": \"stop\",\n",
      "          \"logprobs\": null\n",
      "        },\n",
      "        \"type\": \"ChatGeneration\",\n",
      "        \"message\": {\n",
      "          \"lc\": 1,\n",
      "          \"type\": \"constructor\",\n",
      "          \"id\": [\n",
      "            \"langchain\",\n",
      "            \"schema\",\n",
      "            \"messages\",\n",
      "            \"AIMessage\"\n",
      "          ],\n",
      "          \"kwargs\": {\n",
      "            \"content\": \"To make Italian pasta, you will need the following ingredients:\\n\\n- 2 cups of all-purpose flour\\n- 2 large eggs\\n- 1/2 teaspoon of salt\\n- Water (if needed)\\n\\nHere's a step-by-step guide to making Italian pasta:\\n\\n1. On a clean surface or in a large mixing bowl, create a well with the flour. Make sure the well is wide enough to hold the eggs.\\n\\n2. Crack the eggs into the well and add the salt.\\n\\n3. Using a fork, beat the eggs and gradually start incorporating the flour from the sides of the well. Continue mixing until a dough starts to form.\\n\\n4. Once the dough starts to come together, use your hands to knead it. If the dough feels too dry, you can add a little water, one tablespoon at a time, until it reaches the desired consistency. If the dough is too sticky, add a little more flour.\\n\\n5. Knead the dough for about 5-10 minutes until it becomes smooth and elastic.\\n\\n6. Once the dough is ready, cover it with a clean kitchen towel or plastic wrap and let it rest for at least 30 minutes. This will allow the gluten to relax and make the dough easier to work with.\\n\\n7. After the resting period, divide the dough into smaller portions. Take one portion and flatten it with your hands.\\n\\n8. Using a rolling pin, roll out the dough into a thin sheet. If you have a pasta machine, you can use it to roll out the dough to your desired thickness. Make sure to dust the dough with flour to prevent sticking.\\n\\n9. Once the dough is rolled out, you can cut it into your desired pasta shape. For example, you can make fettuccine, spaghetti, or lasagna sheets.\\n\\n10. If you're making long pasta like spaghetti, you can hang the strands on a pasta drying rack or lay them flat on a clean surface to dry for a few minutes before cooking.\\n\\n11. To cook the pasta, bring a large pot of salted water to a boil. Add the pasta and cook according to the package instructions or until al dente (cooked but still firm to the bite).\\n\\n12. Once the pasta is cooked, drain it and serve with your favorite sauce or toppings.\\n\\nEnjoy your homemade Italian pasta!\",\n",
      "            \"additional_kwargs\": {}\n",
      "          }\n",
      "        }\n",
      "      }\n",
      "    ]\n",
      "  ],\n",
      "  \"llm_output\": null,\n",
      "  \"run\": null\n",
      "}\n"
     ]
    },
    {
     "data": {
      "text/plain": [
       "\"To make Italian pasta, you will need the following ingredients:\\n\\n- 2 cups of all-purpose flour\\n- 2 large eggs\\n- 1/2 teaspoon of salt\\n- Water (if needed)\\n\\nHere's a step-by-step guide to making Italian pasta:\\n\\n1. On a clean surface or in a large mixing bowl, create a well with the flour. Make sure the well is wide enough to hold the eggs.\\n\\n2. Crack the eggs into the well and add the salt.\\n\\n3. Using a fork, beat the eggs and gradually start incorporating the flour from the sides of the well. Continue mixing until a dough starts to form.\\n\\n4. Once the dough starts to come together, use your hands to knead it. If the dough feels too dry, you can add a little water, one tablespoon at a time, until it reaches the desired consistency. If the dough is too sticky, add a little more flour.\\n\\n5. Knead the dough for about 5-10 minutes until it becomes smooth and elastic.\\n\\n6. Once the dough is ready, cover it with a clean kitchen towel or plastic wrap and let it rest for at least 30 minutes. This will allow the gluten to relax and make the dough easier to work with.\\n\\n7. After the resting period, divide the dough into smaller portions. Take one portion and flatten it with your hands.\\n\\n8. Using a rolling pin, roll out the dough into a thin sheet. If you have a pasta machine, you can use it to roll out the dough to your desired thickness. Make sure to dust the dough with flour to prevent sticking.\\n\\n9. Once the dough is rolled out, you can cut it into your desired pasta shape. For example, you can make fettuccine, spaghetti, or lasagna sheets.\\n\\n10. If you're making long pasta like spaghetti, you can hang the strands on a pasta drying rack or lay them flat on a clean surface to dry for a few minutes before cooking.\\n\\n11. To cook the pasta, bring a large pot of salted water to a boil. Add the pasta and cook according to the package instructions or until al dente (cooked but still firm to the bite).\\n\\n12. Once the pasta is cooked, drain it and serve with your favorite sauce or toppings.\\n\\nEnjoy your homemade Italian pasta!\""
      ]
     },
     "execution_count": 8,
     "metadata": {},
     "output_type": "execute_result"
    }
   ],
   "source": [
    "chat.predict(\"How do you make italian pasta\")"
   ]
  }
 ],
 "metadata": {
  "kernelspec": {
   "display_name": "venv",
   "language": "python",
   "name": "python3"
  },
  "language_info": {
   "codemirror_mode": {
    "name": "ipython",
    "version": 3
   },
   "file_extension": ".py",
   "mimetype": "text/x-python",
   "name": "python",
   "nbconvert_exporter": "python",
   "pygments_lexer": "ipython3",
   "version": "3.11.4"
  }
 },
 "nbformat": 4,
 "nbformat_minor": 2
}
