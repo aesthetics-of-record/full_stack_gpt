{
 "cells": [
  {
   "cell_type": "code",
   "execution_count": 7,
   "metadata": {},
   "outputs": [
    {
     "name": "stdout",
     "output_type": "stream",
     "text": [
      "content='안녕하세요, 조현호님! 오늘 어떤 도움을 드릴까요?'\n"
     ]
    }
   ],
   "source": [
    "from langchain.memory import ConversationSummaryBufferMemory\n",
    "from langchain_openai import ChatOpenAI\n",
    "from langchain.schema.runnable import RunnablePassthrough\n",
    "from langchain.prompts import ChatPromptTemplate, MessagesPlaceholder\n",
    "\n",
    "llm = ChatOpenAI(temperature=0.1, model=\"gpt-4-0125-preview\")\n",
    "\n",
    "# 디폴트 메모리키는 history 이기 때문에 지우고 다 그거로 대체해도된다.\n",
    "memory = ConversationSummaryBufferMemory(llm=llm, max_token=80, memory_key=\"chat_history\",\n",
    "                                         return_messages=True)\n",
    "\n",
    "# 얼마나 많은 메세지가 왔는 지 모르지만 MessagesPlaceholder(varible_name=\"chat_history\"),\n",
    "# 를 통해 중간을 대체한다.\n",
    "prompt = ChatPromptTemplate.from_messages([\n",
    "    (\"system\", \"너는 과거 대화내용들을 기억해서 그 기억을 바탕으로 인간에게 대답을 해 주는 ai 야. 그 이전 대화내용들은 내가 프롬프트로 미리 넣어줄거야.\"),\n",
    "    MessagesPlaceholder(variable_name=\"chat_history\"),\n",
    "    (\"human\", \"{question}\")\n",
    "\n",
    "])\n",
    "\n",
    "def load_memory(_):\n",
    "    return memory.load_memory_variables({})[\"chat_history\"]\n",
    "    \n",
    "\n",
    "chain = RunnablePassthrough.assign(chat_history=load_memory) | prompt | llm\n",
    "\n",
    "# 이런 방식이 좀 복잡하지만, 모든 부분을 통제할 수 있어서 더 좋은 것 같다. - 노마드코더\n",
    "def invoke_chain(question):\n",
    "    result = chain.invoke(\n",
    "        {\n",
    "            \"question\": question\n",
    "        }\n",
    "    )\n",
    "    memory.save_context({\"input\": question}, {\"output\": result.content})\n",
    "    print(result)\n",
    "\n",
    "invoke_chain(\"내 이름은 조현호야.\")"
   ]
  },
  {
   "cell_type": "code",
   "execution_count": 5,
   "metadata": {},
   "outputs": [
    {
     "name": "stdout",
     "output_type": "stream",
     "text": [
      "{'question': '내 이름은 뭘까?'}\n"
     ]
    },
    {
     "data": {
      "text/plain": [
       "AIMessage(content='이전 대화에서 당신의 이름에 대한 정보를 제공하지 않았기 때문에, 당신의 이름이 무엇인지 알 수 없습니다. 당신의 이름을 알려주시겠어요?')"
      ]
     },
     "execution_count": 5,
     "metadata": {},
     "output_type": "execute_result"
    }
   ],
   "source": [
    "chain.invoke({\n",
    "    \"question\": \"내 이름은 뭘까?\"\n",
    "})"
   ]
  }
 ],
 "metadata": {
  "kernelspec": {
   "display_name": "venv",
   "language": "python",
   "name": "python3"
  },
  "language_info": {
   "codemirror_mode": {
    "name": "ipython",
    "version": 3
   },
   "file_extension": ".py",
   "mimetype": "text/x-python",
   "name": "python",
   "nbconvert_exporter": "python",
   "pygments_lexer": "ipython3",
   "version": "3.11.4"
  }
 },
 "nbformat": 4,
 "nbformat_minor": 2
}
