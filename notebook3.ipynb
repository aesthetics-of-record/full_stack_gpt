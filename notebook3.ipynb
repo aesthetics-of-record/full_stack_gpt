{
 "cells": [
  {
   "cell_type": "code",
   "execution_count": 17,
   "metadata": {},
   "outputs": [],
   "source": [
    "from langchain.chat_models import ChatOpenAI\n",
    "from langchain.prompts import PromptTemplate, ChatPromptTemplate\n",
    "\n",
    "from dotenv import load_dotenv\n",
    "\n",
    "load_dotenv(\".env\")\n",
    "\n",
    "chat = ChatOpenAI(temperature=0.1, model=\"gpt-3.5-turbo\")"
   ]
  },
  {
   "cell_type": "code",
   "execution_count": 7,
   "metadata": {},
   "outputs": [
    {
     "name": "stderr",
     "output_type": "stream",
     "text": [
      "c:\\Users\\cho\\Documents\\GitHub\\full_stack_gpt\\venv\\Lib\\site-packages\\langchain_core\\_api\\deprecation.py:117: LangChainDeprecationWarning: The function `predict` was deprecated in LangChain 0.1.7 and will be removed in 0.2.0. Use invoke instead.\n",
      "  warn_deprecated(\n"
     ]
    },
    {
     "data": {
      "text/plain": [
       "'멕시코와 태국 사이의 거리는 대략적으로 약 14,000km에서 15,000km 사이입니다. 이 거리는 출발지와 도착지의 정확한 위치에 따라 달라질 수 있으며, 직선 거리와 실제 항공 또는 해상 이동 경로 사이에는 차이가 있을 수 있습니다.\\n\\n제 이름은 OpenAI의 언어 모델인 GPT-3입니다. 저는 인공지능으로, 개인적인 이름은 없지만 질문에 답변하고 정보를 제공하는 데 도움을 드릴 수 있습니다.'"
      ]
     },
     "execution_count": 7,
     "metadata": {},
     "output_type": "execute_result"
    }
   ],
   "source": [
    "template = PromptTemplate.from_template(\n",
    "    \"{country_a}와 {country_b} 사이의 거리는 어떻게 되나요. 그리고 당신의 이름은 무엇인가요?\"\n",
    ")\n",
    "\n",
    "prompt = template.format(country_a=\"멕시코\", country_b=\"태국\")\n",
    "\n",
    "chat.predict(prompt)"
   ]
  },
  {
   "cell_type": "code",
   "execution_count": 18,
   "metadata": {},
   "outputs": [
    {
     "data": {
      "text/plain": [
       "AIMessage(content='Γεια σου! Η απόσταση μεταξύ Μεξικού και Ταϊλάνδης είναι περίπου 16.000 χιλιόμετρα. Το όνομά μου είναι Σωκράτης.')"
      ]
     },
     "execution_count": 18,
     "metadata": {},
     "output_type": "execute_result"
    }
   ],
   "source": [
    "from langchain.schema import HumanMessage, AIMessage, SystemMessage\n",
    "\n",
    "template = ChatPromptTemplate.from_messages(\n",
    "    [\n",
    "        (\"system\", \"너는 지리학 전문가야. 그리고 너는 무조건 {language} 언어로 대답해야 돼.\"),\n",
    "        (\"ai\", \"Ciap, mi chiamo {name}!\"),\n",
    "        (\"human\", \"{country_a}와 {country_b} 사이의 거리는 어떻게 되나요. 그리고 당신의 이름은 무엇인가요?\"),\n",
    "    ]\n",
    ")\n",
    "\n",
    "prompt = template.format_messages(\n",
    "    language=\"그리스어\",\n",
    "    name=\"Socrates\",\n",
    "    country_a=\"멕시코\",\n",
    "    country_b=\"태국\"   \n",
    ")\n",
    "\n",
    "chat.predict_messages(prompt)"
   ]
  },
  {
   "cell_type": "code",
   "execution_count": 18,
   "metadata": {},
   "outputs": [
    {
     "data": {
      "text/plain": [
       "AIMessage(content='멕시코와 태국 사이의 거리는 대략 18,000km 정도 되어요. 제 이름은 파올로예요!')"
      ]
     },
     "execution_count": 18,
     "metadata": {},
     "output_type": "execute_result"
    }
   ],
   "source": []
  }
 ],
 "metadata": {
  "kernelspec": {
   "display_name": "venv",
   "language": "python",
   "name": "python3"
  },
  "language_info": {
   "codemirror_mode": {
    "name": "ipython",
    "version": 3
   },
   "file_extension": ".py",
   "mimetype": "text/x-python",
   "name": "python",
   "nbconvert_exporter": "python",
   "pygments_lexer": "ipython3",
   "version": "3.11.5"
  }
 },
 "nbformat": 4,
 "nbformat_minor": 2
}
