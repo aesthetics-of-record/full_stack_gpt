{
 "cells": [
  {
   "cell_type": "code",
   "execution_count": 8,
   "metadata": {},
   "outputs": [
    {
     "name": "stdout",
     "output_type": "stream",
     "text": [
      "소주는 전통적인 한국 증류주로, 주로 쌀을 원료로 하여 만들어지지만, 고구마, 보리, 타피오카 등 다양한 전분질 원료를 사용하기도 합니다. 현대에는 대량 생산을 위해 다양한 곡물이나 전분을 사용하는 경우가 많습니다. 전통적인 소주 제작법은 다음과 같은 과정을 포함합니다:\n",
      "\n",
      "1. 원료 준비: 쌀이나 다른 전분질 원료를 깨끗이 씻어 준비합니다.\n",
      "\n",
      "2. 전분 전환: 원료를 증자하여 전분을 덱스트린화시키고, 이후 누룩이나 효모를 첨가하여 전분을 당으로 전환시킵니다. 누룩은 전통적인 발효제로, 곰팡이, 효모, 박테리아 등이 혼합된 것입니다.\n",
      "\n",
      "3. 발효: 당이 알코올로 변환되도록 일정 기간 동안 발효시킵니다. 이 과정에서 알코올 함량이 증가하고, 소주의 특유의 향과 맛이 형성됩니다.\n",
      "\n",
      "4. 증류: 발효된 액체를 증류기에 넣어 알코올을 추출합니다. 증류 과정에서 알코올의 농도를 조절하여 소주의 도수를 결정합니다.\n",
      "\n",
      "5. 숙성: 증류된 알코올을 일정 기간 동안 숙성시켜 맛과 향을 안정화시킵니다.\n",
      "\n",
      "6. 여과 및 병입: 숙성된 소주를 여과하여 잔여 불순물을 제거한 후, 병에 담아 판매합니다.\n",
      "\n",
      "현대의 상업적인 소주 제조 과정은 이러한 전통적인 방법과 다를 수 있으며, 대량 생산을 위해 산업적인 방법과 기계를 사용합니다. 또한, 현대의 소주는 알코올 도수를 낮추기 위해 증류 후에 물을 첨가하여 희석하기도 합니다. 다양한 맛을 내기 위해 과일 향이나 다른 첨가물을 넣는 경우도 있습니다. \n",
      "\n",
      "Tokens Used: 712\n",
      "\tPrompt Tokens: 19\n",
      "\tCompletion Tokens: 693\n",
      "Successful Requests: 1\n",
      "Total Cost (USD): $0.020979999999999995\n"
     ]
    }
   ],
   "source": [
    "from langchain.chat_models import ChatOpenAI\n",
    "from langchain.callbacks import get_openai_callback\n",
    "\n",
    "chat = ChatOpenAI(\n",
    "  temperature=0.1,\n",
    "  model=\"gpt-4-1106-preview\",\n",
    ")\n",
    "\n",
    "\n",
    "with get_openai_callback() as usage:\n",
    "  a = chat.predict(\"소주의 제작법은 뭐야?\")\n",
    "  # b = chat.predict(\"빵의 제작법은 뭐야?\")\n",
    "  print(a,\"\\n\")\n",
    "  print(usage)"
   ]
  }
 ],
 "metadata": {
  "kernelspec": {
   "display_name": "venv",
   "language": "python",
   "name": "python3"
  },
  "language_info": {
   "codemirror_mode": {
    "name": "ipython",
    "version": 3
   },
   "file_extension": ".py",
   "mimetype": "text/x-python",
   "name": "python",
   "nbconvert_exporter": "python",
   "pygments_lexer": "ipython3",
   "version": "3.11.4"
  }
 },
 "nbformat": 4,
 "nbformat_minor": 2
}
